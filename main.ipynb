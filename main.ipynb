{
 "cells": [
  {
   "cell_type": "markdown",
   "id": "champion-worcester",
   "metadata": {},
   "source": [
    "# Binary classification on a IBM quantum computer"
   ]
  },
  {
   "cell_type": "markdown",
   "id": "brazilian-question",
   "metadata": {},
   "source": [
    "### Libraries"
   ]
  },
  {
   "cell_type": "code",
   "execution_count": 1,
   "id": "difficult-firewall",
   "metadata": {},
   "outputs": [],
   "source": [
    "import numpy as np\n",
    "import pandas as pd\n",
    "# Qiskit\n",
    "from qiskit import IBMQ, transpile\n",
    "from qiskit import QuantumCircuit, ClassicalRegister, QuantumRegister\n",
    "from qiskit.providers.ibmq import least_busy\n",
    "from qiskit.tools.monitor import job_monitor"
   ]
  },
  {
   "cell_type": "markdown",
   "id": "established-margin",
   "metadata": {},
   "source": [
    "### Functions"
   ]
  },
  {
   "cell_type": "code",
   "execution_count": 2,
   "id": "thrown-tuning",
   "metadata": {},
   "outputs": [],
   "source": [
    "def initialize(qc, qubits):\n",
    "    \"\"\"Apply a H-gate to 'qubits' in qc (quantum circuit)\"\"\"\n",
    "    for q in qubits:\n",
    "        qc.h(q)\n",
    "    return qc\n",
    "\n",
    "def classification(results):\n",
    "    \"\"\"Given results (list of dictionaries with frequencies)\n",
    "    returns a vector with the corrispective classifications.\"\"\"\n",
    "    classification = []\n",
    "    for i in results:\n",
    "        if i['1'] > n_iter/4:\n",
    "            classification += [-1]\n",
    "        else:\n",
    "            classification +=[1]\n",
    "    return classification"
   ]
  },
  {
   "cell_type": "markdown",
   "id": "martial-wrong",
   "metadata": {},
   "source": [
    "### Parameter definition"
   ]
  },
  {
   "cell_type": "code",
   "execution_count": 3,
   "id": "06915a12",
   "metadata": {},
   "outputs": [],
   "source": [
    "#non-modifiable parameters\n",
    "pi = np.pi\n",
    "circuit_list = []\n",
    "\n",
    "#circuit's parameters\n",
    "alpha = pi\n",
    "theta_list = np.array([0.1,0.3])*pi\n",
    "n_iter = 20000"
   ]
  },
  {
   "cell_type": "markdown",
   "id": "bc973636",
   "metadata": {},
   "source": [
    "### To use quantum devices"
   ]
  },
  {
   "cell_type": "code",
   "execution_count": 5,
   "id": "e990babc",
   "metadata": {},
   "outputs": [
    {
     "name": "stderr",
     "output_type": "stream",
     "text": [
      "ibmqfactory.load_account:WARNING:2023-10-07 11:10:48,606: Credentials are already in use. The existing account in the session will be replaced.\n"
     ]
    },
    {
     "name": "stdout",
     "output_type": "stream",
     "text": [
      "\n",
      "Here is the list of cloud backends that are available to you:\n",
      "ibmq_qasm_simulator\n",
      "simulator_statevector\n",
      "simulator_mps\n",
      "simulator_extended_stabilizer\n",
      "simulator_stabilizer\n",
      "ibm_lagos\n",
      "ibm_nairobi\n",
      "ibm_perth\n",
      "ibm_brisbane\n"
     ]
    }
   ],
   "source": [
    "# IBM token\n",
    "token = ...     #API token from IBM Quantum's account\n",
    "#loading IBM account to have a provider of quantum devices\n",
    "IBMQ.save_account(token, overwrite=True)\n",
    "provider = IBMQ.load_account()\n",
    "provider = IBMQ.get_provider(hub='ibm-q', group='open', project='main') \n",
    "#print the list of available devices\n",
    "available_cloud_backends = provider.backends() \n",
    "print('\\nHere is the list of cloud backends that are available to you:')\n",
    "for i in available_cloud_backends: print(i)  "
   ]
  },
  {
   "cell_type": "code",
   "execution_count": 6,
   "id": "1ddc70bb",
   "metadata": {},
   "outputs": [],
   "source": [
    "#select the device to use\n",
    "dvc = ...\n",
    "device = provider.get_backend(dvc)"
   ]
  },
  {
   "cell_type": "markdown",
   "id": "expired-hours",
   "metadata": {},
   "source": [
    "### Circuit construction"
   ]
  },
  {
   "cell_type": "code",
   "execution_count": 7,
   "id": "fitted-portland",
   "metadata": {},
   "outputs": [
    {
     "data": {
      "image/png": "[encoded data removed]",
      "text/plain": [
       "<Figure size 989.597x505.68 with 1 Axes>"
      ]
     },
     "execution_count": 7,
     "metadata": {},
     "output_type": "execute_result"
    }
   ],
   "source": [
    "#Inizialization of quantum register (7 qubits) and classical register (1 bit)\n",
    "qreg_q = QuantumRegister(7, 'q')\n",
    "creg_c = ClassicalRegister(1, 'c')\n",
    "\n",
    "#Construction of the circuits (one for each value in theta_list); at the end of the for loop, circuit_list is containing all the circuits\n",
    "for theta in theta_list:\n",
    "    circuit = QuantumCircuit(qreg_q, creg_c)\n",
    "\n",
    "    circuit = initialize(circuit, [0,1,2])\n",
    "    circuit.x(2)\n",
    "    circuit.ch(2, 3)\n",
    "    circuit.ccx(qreg_q[2], qreg_q[3], qreg_q[4])\n",
    "    circuit.cry(alpha, qreg_q[4], qreg_q[5])\n",
    "    circuit.ccx(qreg_q[2], qreg_q[3], qreg_q[4])\n",
    "    circuit.ccx(qreg_q[2], qreg_q[3], qreg_q[6])\n",
    "    circuit.x(qreg_q[2])\n",
    "    circuit.ch(qreg_q[2], qreg_q[3])\n",
    "    circuit.cry(theta, qreg_q[2], qreg_q[5])\n",
    "    circuit.cx(qreg_q[2], qreg_q[6])\n",
    "    circuit.ch(qreg_q[2], qreg_q[6])\n",
    "    circuit.cswap(qreg_q[0], qreg_q[1], qreg_q[2])\n",
    "    circuit.h(qreg_q[0])\n",
    "    circuit.measure(qreg_q[0], creg_c[0])\n",
    "    \n",
    "    circuit_list += [circuit]\n",
    "\n",
    "#As an example, I visualize the first circuit in the variable 'circuit_list'\n",
    "circuit_list[0].draw(output='mpl')"
   ]
  },
  {
   "cell_type": "markdown",
   "id": "delayed-butler",
   "metadata": {},
   "source": [
    "### Compilation"
   ]
  },
  {
   "cell_type": "code",
   "execution_count": null,
   "id": "radical-beginning",
   "metadata": {},
   "outputs": [],
   "source": [
    "#compilation of circuits with maximum optimization\n",
    "transpiled_circuit_list = transpile(circuit_list, device, optimization_level=3)"
   ]
  },
  {
   "cell_type": "markdown",
   "id": "organizational-vessel",
   "metadata": {},
   "source": [
    "### Run"
   ]
  },
  {
   "cell_type": "code",
   "execution_count": null,
   "id": "amino-drinking",
   "metadata": {},
   "outputs": [],
   "source": [
    "#run\n",
    "job = device.run(transpiled_circuit_list, shots = n_iter)\n",
    "#monitoring of execution\n",
    "job_monitor(job, interval=2)"
   ]
  },
  {
   "cell_type": "markdown",
   "id": "static-religion",
   "metadata": {},
   "source": [
    "### Get results"
   ]
  },
  {
   "cell_type": "code",
   "execution_count": null,
   "id": "a39e7d42",
   "metadata": {},
   "outputs": [],
   "source": [
    "results = job.result()\n",
    "answer = results.get_counts()\n",
    "#grouping data in a dataframe\n",
    "data = pd.DataFrame(answers)\n",
    "data['Theta [pi]'] = theta_list/pi\n",
    "columns_titles = [\"Theta [pi]\",\"1\",'0']\n",
    "data=data.reindex(columns=columns_titles)\n",
    "data['Class'] = classification(answer)"
   ]
  },
  {
   "cell_type": "code",
   "execution_count": null,
   "id": "mechanical-population",
   "metadata": {},
   "outputs": [],
   "source": [
    "#saving data\n",
    "#data.to_csv(saving_path)"
   ]
  }
 ],
 "metadata": {
  "kernelspec": {
   "display_name": "Python 3 (ipykernel)",
   "language": "python",
   "name": "python3"
  },
  "language_info": {
   "codemirror_mode": {
    "name": "ipython",
    "version": 3
   },
   "file_extension": ".py",
   "mimetype": "text/x-python",
   "name": "python",
   "nbconvert_exporter": "python",
   "pygments_lexer": "ipython3",
   "version": "3.10.0"
  }
 },
 "nbformat": 4,
 "nbformat_minor": 5
}
